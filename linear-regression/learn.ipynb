{
 "cells": [
  {
   "cell_type": "code",
   "execution_count": null,
   "id": "792c6018",
   "metadata": {},
   "outputs": [],
   "source": [
    "#env=research"
   ]
  },
  {
   "cell_type": "markdown",
   "id": "069c9f2a",
   "metadata": {},
   "source": [
    "### references\n",
    "- https://www.kaggle.com/code/fareselmenshawii/linear-regression-from-scratch"
   ]
  },
  {
   "cell_type": "markdown",
   "id": "243a8623",
   "metadata": {},
   "source": [
    "### notes\n",
    "- Linear regression is about predicting continuous value given input features.\n",
    "- find slope (w) and intercept (b) that minimize the error between predicted and actual values"
   ]
  },
  {
   "cell_type": "markdown",
   "id": "7b80d79c",
   "metadata": {},
   "source": [
    "### linear regression"
   ]
  },
  {
   "cell_type": "code",
   "execution_count": 4,
   "id": "8f147409",
   "metadata": {},
   "outputs": [],
   "source": [
    "import numpy as np\n",
    "import matplotlib.pyplot as plt\n",
    "np.random.seed(0)"
   ]
  },
  {
   "cell_type": "code",
   "execution_count": 17,
   "id": "45a3600a",
   "metadata": {},
   "outputs": [],
   "source": [
    "X = 2 * np.random.rand(100, 1)\n",
    "y = 4 + 3 * X + np.random.randn(100, 1)\n",
    "\n",
    "w = np.random.randn()\n",
    "b = np.random.randn()\n",
    "\n",
    "learning_rate = 1e-3\n",
    "epochs = 10000"
   ]
  },
  {
   "cell_type": "code",
   "execution_count": 18,
   "id": "8a8b978b",
   "metadata": {},
   "outputs": [
    {
     "name": "stdout",
     "output_type": "stream",
     "text": [
      "Epoch: 0, Loss: 76.0906, w: -0.3869, b: -0.8472\n",
      "Epoch: 100, Loss: 32.2164, w: 1.1713, b: 0.5166\n",
      "Epoch: 200, Loss: 14.1702, w: 2.1564, b: 1.4072\n",
      "Epoch: 300, Loss: 6.7358, w: 2.7748, b: 1.9939\n",
      "Epoch: 400, Loss: 3.6622, w: 3.1586, b: 2.3853\n",
      "Epoch: 500, Loss: 2.3813, w: 3.3924, b: 2.6510\n",
      "Epoch: 600, Loss: 1.8382, w: 3.5305, b: 2.8356\n",
      "Epoch: 700, Loss: 1.5993, w: 3.6078, b: 2.9676\n",
      "Epoch: 800, Loss: 1.4865, w: 3.6463, b: 3.0656\n",
      "Epoch: 900, Loss: 1.4265, w: 3.6606, b: 3.1412\n",
      "Epoch: 1000, Loss: 1.3892, w: 3.6595, b: 3.2020\n",
      "Epoch: 1100, Loss: 1.3620, w: 3.6490, b: 3.2530\n",
      "Epoch: 1200, Loss: 1.3398, w: 3.6329, b: 3.2971\n",
      "Epoch: 1300, Loss: 1.3204, w: 3.6134, b: 3.3365\n",
      "Epoch: 1400, Loss: 1.3029, w: 3.5921, b: 3.3725\n",
      "Epoch: 1500, Loss: 1.2868, w: 3.5699, b: 3.4060\n",
      "Epoch: 1600, Loss: 1.2719, w: 3.5476, b: 3.4374\n",
      "Epoch: 1700, Loss: 1.2581, w: 3.5253, b: 3.4671\n",
      "Epoch: 1800, Loss: 1.2453, w: 3.5034, b: 3.4955\n",
      "Epoch: 1900, Loss: 1.2333, w: 3.4820, b: 3.5226\n",
      "Epoch: 2000, Loss: 1.2222, w: 3.4612, b: 3.5487\n",
      "Epoch: 2100, Loss: 1.2118, w: 3.4410, b: 3.5737\n",
      "Epoch: 2200, Loss: 1.2022, w: 3.4215, b: 3.5979\n",
      "Epoch: 2300, Loss: 1.1932, w: 3.4026, b: 3.6211\n",
      "Epoch: 2400, Loss: 1.1849, w: 3.3843, b: 3.6435\n",
      "Epoch: 2500, Loss: 1.1771, w: 3.3667, b: 3.6650\n",
      "Epoch: 2600, Loss: 1.1698, w: 3.3496, b: 3.6859\n",
      "Epoch: 2700, Loss: 1.1631, w: 3.3332, b: 3.7059\n",
      "Epoch: 2800, Loss: 1.1568, w: 3.3173, b: 3.7253\n",
      "Epoch: 2900, Loss: 1.1510, w: 3.3020, b: 3.7440\n",
      "Epoch: 3000, Loss: 1.1455, w: 3.2872, b: 3.7620\n",
      "Epoch: 3100, Loss: 1.1405, w: 3.2729, b: 3.7794\n",
      "Epoch: 3200, Loss: 1.1358, w: 3.2592, b: 3.7962\n",
      "Epoch: 3300, Loss: 1.1314, w: 3.2459, b: 3.8123\n",
      "Epoch: 3400, Loss: 1.1273, w: 3.2331, b: 3.8280\n",
      "Epoch: 3500, Loss: 1.1235, w: 3.2207, b: 3.8430\n",
      "Epoch: 3600, Loss: 1.1200, w: 3.2088, b: 3.8576\n",
      "Epoch: 3700, Loss: 1.1167, w: 3.1973, b: 3.8716\n",
      "Epoch: 3800, Loss: 1.1136, w: 3.1862, b: 3.8851\n",
      "Epoch: 3900, Loss: 1.1108, w: 3.1755, b: 3.8982\n",
      "Epoch: 4000, Loss: 1.1081, w: 3.1651, b: 3.9108\n",
      "Epoch: 4100, Loss: 1.1056, w: 3.1551, b: 3.9229\n",
      "Epoch: 4200, Loss: 1.1033, w: 3.1455, b: 3.9346\n",
      "Epoch: 4300, Loss: 1.1012, w: 3.1362, b: 3.9460\n",
      "Epoch: 4400, Loss: 1.0992, w: 3.1273, b: 3.9569\n",
      "Epoch: 4500, Loss: 1.0973, w: 3.1186, b: 3.9674\n",
      "Epoch: 4600, Loss: 1.0956, w: 3.1103, b: 3.9776\n",
      "Epoch: 4700, Loss: 1.0940, w: 3.1023, b: 3.9874\n",
      "Epoch: 4800, Loss: 1.0925, w: 3.0945, b: 3.9968\n",
      "Epoch: 4900, Loss: 1.0911, w: 3.0870, b: 4.0059\n",
      "Epoch: 5000, Loss: 1.0898, w: 3.0798, b: 4.0148\n",
      "Epoch: 5100, Loss: 1.0886, w: 3.0728, b: 4.0232\n",
      "Epoch: 5200, Loss: 1.0875, w: 3.0661, b: 4.0314\n",
      "Epoch: 5300, Loss: 1.0864, w: 3.0596, b: 4.0394\n",
      "Epoch: 5400, Loss: 1.0854, w: 3.0533, b: 4.0470\n",
      "Epoch: 5500, Loss: 1.0845, w: 3.0473, b: 4.0543\n",
      "Epoch: 5600, Loss: 1.0837, w: 3.0415, b: 4.0615\n",
      "Epoch: 5700, Loss: 1.0829, w: 3.0358, b: 4.0683\n",
      "Epoch: 5800, Loss: 1.0822, w: 3.0304, b: 4.0749\n",
      "Epoch: 5900, Loss: 1.0815, w: 3.0252, b: 4.0813\n",
      "Epoch: 6000, Loss: 1.0809, w: 3.0201, b: 4.0875\n",
      "Epoch: 6100, Loss: 1.0803, w: 3.0152, b: 4.0934\n",
      "Epoch: 6200, Loss: 1.0797, w: 3.0105, b: 4.0991\n",
      "Epoch: 6300, Loss: 1.0792, w: 3.0060, b: 4.1047\n",
      "Epoch: 6400, Loss: 1.0787, w: 3.0016, b: 4.1100\n",
      "Epoch: 6500, Loss: 1.0783, w: 2.9974, b: 4.1151\n",
      "Epoch: 6600, Loss: 1.0779, w: 2.9933, b: 4.1201\n",
      "Epoch: 6700, Loss: 1.0775, w: 2.9894, b: 4.1249\n",
      "Epoch: 6800, Loss: 1.0771, w: 2.9856, b: 4.1295\n",
      "Epoch: 6900, Loss: 1.0768, w: 2.9819, b: 4.1340\n",
      "Epoch: 7000, Loss: 1.0765, w: 2.9784, b: 4.1383\n",
      "Epoch: 7100, Loss: 1.0762, w: 2.9750, b: 4.1424\n",
      "Epoch: 7200, Loss: 1.0759, w: 2.9717, b: 4.1464\n",
      "Epoch: 7300, Loss: 1.0757, w: 2.9685, b: 4.1503\n",
      "Epoch: 7400, Loss: 1.0754, w: 2.9655, b: 4.1540\n",
      "Epoch: 7500, Loss: 1.0752, w: 2.9625, b: 4.1576\n",
      "Epoch: 7600, Loss: 1.0750, w: 2.9597, b: 4.1611\n",
      "Epoch: 7700, Loss: 1.0748, w: 2.9569, b: 4.1644\n",
      "Epoch: 7800, Loss: 1.0747, w: 2.9543, b: 4.1677\n",
      "Epoch: 7900, Loss: 1.0745, w: 2.9517, b: 4.1708\n",
      "Epoch: 8000, Loss: 1.0744, w: 2.9493, b: 4.1738\n",
      "Epoch: 8100, Loss: 1.0742, w: 2.9469, b: 4.1767\n",
      "Epoch: 8200, Loss: 1.0741, w: 2.9446, b: 4.1795\n",
      "Epoch: 8300, Loss: 1.0740, w: 2.9424, b: 4.1822\n",
      "Epoch: 8400, Loss: 1.0738, w: 2.9402, b: 4.1848\n",
      "Epoch: 8500, Loss: 1.0737, w: 2.9382, b: 4.1873\n",
      "Epoch: 8600, Loss: 1.0736, w: 2.9362, b: 4.1898\n",
      "Epoch: 8700, Loss: 1.0735, w: 2.9342, b: 4.1921\n",
      "Epoch: 8800, Loss: 1.0735, w: 2.9324, b: 4.1944\n",
      "Epoch: 8900, Loss: 1.0734, w: 2.9306, b: 4.1965\n",
      "Epoch: 9000, Loss: 1.0733, w: 2.9289, b: 4.1986\n",
      "Epoch: 9100, Loss: 1.0732, w: 2.9272, b: 4.2007\n",
      "Epoch: 9200, Loss: 1.0732, w: 2.9256, b: 4.2026\n",
      "Epoch: 9300, Loss: 1.0731, w: 2.9241, b: 4.2045\n",
      "Epoch: 9400, Loss: 1.0731, w: 2.9226, b: 4.2063\n",
      "Epoch: 9500, Loss: 1.0730, w: 2.9211, b: 4.2081\n",
      "Epoch: 9600, Loss: 1.0730, w: 2.9197, b: 4.2098\n",
      "Epoch: 9700, Loss: 1.0729, w: 2.9184, b: 4.2114\n",
      "Epoch: 9800, Loss: 1.0729, w: 2.9171, b: 4.2130\n",
      "Epoch: 9900, Loss: 1.0728, w: 2.9158, b: 4.2145\n"
     ]
    },
    {
     "data": {
      "image/png": "[encoded data removed]",
      "text/plain": [
       "<Figure size 640x480 with 1 Axes>"
      ]
     },
     "metadata": {},
     "output_type": "display_data"
    }
   ],
   "source": [
    "for epoch in range(epochs):\n",
    "    y_pred = w * X + b\n",
    "    error = y_pred - y\n",
    "    loss = np.mean(error ** 2)\n",
    "    \n",
    "    dw = np.mean(2 * error * X)\n",
    "    db = np.mean(2 * error)\n",
    "    \n",
    "    w = w - learning_rate * dw\n",
    "    b = b - learning_rate * db\n",
    "    \n",
    "    if epoch%100 == 0:\n",
    "        print(f\"Epoch: {epoch}, Loss: {loss:.4f}, w: {w:.4f}, b: {b:.4f}\")\n",
    "        \n",
    "   \n",
    "plt.scatter(X, y)\n",
    "plt.plot(X, w*X + b, color='red')\n",
    "plt.title(\"linear regression\")\n",
    "plt.show()"
   ]
  },
  {
   "cell_type": "markdown",
   "id": "cea2e2ee",
   "metadata": {},
   "source": [
    "### multivariate linear regression"
   ]
  },
  {
   "cell_type": "code",
   "execution_count": 1,
   "id": "3ca70412",
   "metadata": {},
   "outputs": [],
   "source": [
    "import plotly.express as px\n",
    "import pandas as pd\n",
    "import numpy as np\n",
    "\n",
    "np.random.seed(0)"
   ]
  },
  {
   "cell_type": "markdown",
   "id": "a428a5db",
   "metadata": {},
   "source": [
    "- 10 data points\n",
    "- 2 features: x_1, x_2\n",
    "- y = 3*x_1 + 2*x_2 + 4 + noise"
   ]
  },
  {
   "cell_type": "code",
   "execution_count": 2,
   "id": "b837187f",
   "metadata": {},
   "outputs": [],
   "source": [
    "X = np.random.rand(10, 2) # 10 samples, 2 features\n",
    "\n",
    "true_weights = np.array([3.0, 2.0])\n",
    "true_bias = 4.0\n",
    "noise = np.random.randn(10) * 0.1\n",
    "\n",
    "y = true_bias + X @ true_weights + noise"
   ]
  },
  {
   "cell_type": "code",
   "execution_count": 3,
   "id": "f7bbab37",
   "metadata": {},
   "outputs": [],
   "source": [
    "df = pd.DataFrame(X, columns=[\"X1\", \"X2\"])\n",
    "df[\"y\"] = y\n",
    "\n",
    "X_augmented = np.hstack([X, np.ones((X.shape[0], 1))])\n",
    "weights = np.random.randn(3) # 2 weights, 1 bias\n",
    "\n",
    "lr = 0.1\n",
    "epochs = 1000"
   ]
  },
  {
   "cell_type": "code",
   "execution_count": 4,
   "id": "785704ea",
   "metadata": {},
   "outputs": [
    {
     "name": "stdout",
     "output_type": "stream",
     "text": [
      "Epoch: 0, Loss: 30.2880, w: [0.655289   0.54125599 2.61444353]\n",
      "Epoch: 100, Loss: 0.0195, w: [2.47077786 2.02846132 4.26766916]\n",
      "Epoch: 200, Loss: 0.0118, w: [2.65525875 2.12185144 4.10396302]\n",
      "Epoch: 300, Loss: 0.0107, w: [2.70964076 2.17472835 4.03874861]\n",
      "Epoch: 400, Loss: 0.0105, w: [2.72706408 2.2004885  4.01195501]\n",
      "Epoch: 500, Loss: 0.0105, w: [2.73313075 2.21228122 4.00073702]\n",
      "Epoch: 600, Loss: 0.0105, w: [2.7353982  2.21752045 3.99598789]\n",
      "Epoch: 700, Loss: 0.0105, w: [2.73629136 2.2198124  3.99396453]\n",
      "Epoch: 800, Loss: 0.0105, w: [2.73665571 2.22080681 3.99309937]\n",
      "Epoch: 900, Loss: 0.0105, w: [2.73680761 2.22123631 3.99272869]\n",
      "learned weights: [2.73687135 2.22142018 3.99257071]\n"
     ]
    },
    {
     "data": {
      "application/vnd.plotly.v1+json": {
       "config": {
        "plotlyServerURL": "https://plot.ly"
       },
       "data": [
        {
         "hovertemplate": "y=%{x}<br>y_pred=%{y}<extra></extra>",
         "legendgroup": "",
         "marker": {
          "color": "#636efa",
          "symbol": "circle"
         },
         "mode": "markers",
         "name": "",
         "orientation": "v",
         "showlegend": false,
         "type": "scatter",
         "x": {
          "bdata": "OoYqF6jnHEAK/1QFmoIbQCfcGRtRYBpAHJeF3CgLHEAnkkDsO5wdQCNWV2JJ/h1ALkyOTiyRHkDJIwN3qkARQNJscj69zxdAOhvB+Vq3H0A=",
          "dtype": "f8"
         },
         "xaxis": "x",
         "y": {
          "bdata": "qHhhwVZVHEB8vNGXImkbQJx5CEDyWBpACCERQk2vHEDAg4fNVu0dQMBsHn5XVh1AKnowC9tpHkAa4wTEq4URQOj9JWQLlxdASuW5KiIcIEA=",
          "dtype": "f8"
         },
         "yaxis": "y"
        }
       ],
       "layout": {
        "legend": {
         "tracegroupgap": 0
        },
        "shapes": [
         {
          "line": {
           "color": "red",
           "dash": "dash"
          },
          "type": "line",
          "x0": 4.313150271956098,
          "x1": 7.929057981883313,
          "y0": 4.313150271956098,
          "y1": 7.929057981883313
         }
        ],
        "template": {
         "data": {
          "bar": [
           {
            "error_x": {
             "color": "#2a3f5f"
            },
            "error_y": {
             "color": "#2a3f5f"
            },
            "marker": {
             "line": {
              "color": "#E5ECF6",
              "width": 0.5
             },
             "pattern": {
              "fillmode": "overlay",
              "size": 10,
              "solidity": 0.2
             }
            },
            "type": "bar"
           }
          ],
          "barpolar": [
           {
            "marker": {
             "line": {
              "color": "#E5ECF6",
              "width": 0.5
             },
             "pattern": {
              "fillmode": "overlay",
              "size": 10,
              "solidity": 0.2
             }
            },
            "type": "barpolar"
           }
          ],
          "carpet": [
           {
            "aaxis": {
             "endlinecolor": "#2a3f5f",
             "gridcolor": "white",
             "linecolor": "white",
             "minorgridcolor": "white",
             "startlinecolor": "#2a3f5f"
            },
            "baxis": {
             "endlinecolor": "#2a3f5f",
             "gridcolor": "white",
             "linecolor": "white",
             "minorgridcolor": "white",
             "startlinecolor": "#2a3f5f"
            },
            "type": "carpet"
           }
          ],
          "choropleth": [
           {
            "colorbar": {
             "outlinewidth": 0,
             "ticks": ""
            },
            "type": "choropleth"
           }
          ],
          "contour": [
           {
            "colorbar": {
             "outlinewidth": 0,
             "ticks": ""
            },
            "colorscale": [
             [
              0,
              "#0d0887"
             ],
             [
              0.1111111111111111,
              "#46039f"
             ],
             [
              0.2222222222222222,
              "#7201a8"
             ],
             [
              0.3333333333333333,
              "#9c179e"
             ],
             [
              0.4444444444444444,
              "#bd3786"
             ],
             [
              0.5555555555555556,
              "#d8576b"
             ],
             [
              0.6666666666666666,
              "#ed7953"
             ],
             [
              0.7777777777777778,
              "#fb9f3a"
             ],
             [
              0.8888888888888888,
              "#fdca26"
             ],
             [
              1,
              "#f0f921"
             ]
            ],
            "type": "contour"
           }
          ],
          "contourcarpet": [
           {
            "colorbar": {
             "outlinewidth": 0,
             "ticks": ""
            },
            "type": "contourcarpet"
           }
          ],
          "heatmap": [
           {
            "colorbar": {
             "outlinewidth": 0,
             "ticks": ""
            },
            "colorscale": [
             [
              0,
              "#0d0887"
             ],
             [
              0.1111111111111111,
              "#46039f"
             ],
             [
              0.2222222222222222,
              "#7201a8"
             ],
             [
              0.3333333333333333,
              "#9c179e"
             ],
             [
              0.4444444444444444,
              "#bd3786"
             ],
             [
              0.5555555555555556,
              "#d8576b"
             ],
             [
              0.6666666666666666,
              "#ed7953"
             ],
             [
              0.7777777777777778,
              "#fb9f3a"
             ],
             [
              0.8888888888888888,
              "#fdca26"
             ],
             [
              1,
              "#f0f921"
             ]
            ],
            "type": "heatmap"
           }
          ],
          "histogram": [
           {
            "marker": {
             "pattern": {
              "fillmode": "overlay",
              "size": 10,
              "solidity": 0.2
             }
            },
            "type": "histogram"
           }
          ],
          "histogram2d": [
           {
            "colorbar": {
             "outlinewidth": 0,
             "ticks": ""
            },
            "colorscale": [
             [
              0,
              "#0d0887"
             ],
             [
              0.1111111111111111,
              "#46039f"
             ],
             [
              0.2222222222222222,
              "#7201a8"
             ],
             [
              0.3333333333333333,
              "#9c179e"
             ],
             [
              0.4444444444444444,
              "#bd3786"
             ],
             [
              0.5555555555555556,
              "#d8576b"
             ],
             [
              0.6666666666666666,
              "#ed7953"
             ],
             [
              0.7777777777777778,
              "#fb9f3a"
             ],
             [
              0.8888888888888888,
              "#fdca26"
             ],
             [
              1,
              "#f0f921"
             ]
            ],
            "type": "histogram2d"
           }
          ],
          "histogram2dcontour": [
           {
            "colorbar": {
             "outlinewidth": 0,
             "ticks": ""
            },
            "colorscale": [
             [
              0,
              "#0d0887"
             ],
             [
              0.1111111111111111,
              "#46039f"
             ],
             [
              0.2222222222222222,
              "#7201a8"
             ],
             [
              0.3333333333333333,
              "#9c179e"
             ],
             [
              0.4444444444444444,
              "#bd3786"
             ],
             [
              0.5555555555555556,
              "#d8576b"
             ],
             [
              0.6666666666666666,
              "#ed7953"
             ],
             [
              0.7777777777777778,
              "#fb9f3a"
             ],
             [
              0.8888888888888888,
              "#fdca26"
             ],
             [
              1,
              "#f0f921"
             ]
            ],
            "type": "histogram2dcontour"
           }
          ],
          "mesh3d": [
           {
            "colorbar": {
             "outlinewidth": 0,
             "ticks": ""
            },
            "type": "mesh3d"
           }
          ],
          "parcoords": [
           {
            "line": {
             "colorbar": {
              "outlinewidth": 0,
              "ticks": ""
             }
            },
            "type": "parcoords"
           }
          ],
          "pie": [
           {
            "automargin": true,
            "type": "pie"
           }
          ],
          "scatter": [
           {
            "fillpattern": {
             "fillmode": "overlay",
             "size": 10,
             "solidity": 0.2
            },
            "type": "scatter"
           }
          ],
          "scatter3d": [
           {
            "line": {
             "colorbar": {
              "outlinewidth": 0,
              "ticks": ""
             }
            },
            "marker": {
             "colorbar": {
              "outlinewidth": 0,
              "ticks": ""
             }
            },
            "type": "scatter3d"
           }
          ],
          "scattercarpet": [
           {
            "marker": {
             "colorbar": {
              "outlinewidth": 0,
              "ticks": ""
             }
            },
            "type": "scattercarpet"
           }
          ],
          "scattergeo": [
           {
            "marker": {
             "colorbar": {
              "outlinewidth": 0,
              "ticks": ""
             }
            },
            "type": "scattergeo"
           }
          ],
          "scattergl": [
           {
            "marker": {
             "colorbar": {
              "outlinewidth": 0,
              "ticks": ""
             }
            },
            "type": "scattergl"
           }
          ],
          "scattermap": [
           {
            "marker": {
             "colorbar": {
              "outlinewidth": 0,
              "ticks": ""
             }
            },
            "type": "scattermap"
           }
          ],
          "scattermapbox": [
           {
            "marker": {
             "colorbar": {
              "outlinewidth": 0,
              "ticks": ""
             }
            },
            "type": "scattermapbox"
           }
          ],
          "scatterpolar": [
           {
            "marker": {
             "colorbar": {
              "outlinewidth": 0,
              "ticks": ""
             }
            },
            "type": "scatterpolar"
           }
          ],
          "scatterpolargl": [
           {
            "marker": {
             "colorbar": {
              "outlinewidth": 0,
              "ticks": ""
             }
            },
            "type": "scatterpolargl"
           }
          ],
          "scatterternary": [
           {
            "marker": {
             "colorbar": {
              "outlinewidth": 0,
              "ticks": ""
             }
            },
            "type": "scatterternary"
           }
          ],
          "surface": [
           {
            "colorbar": {
             "outlinewidth": 0,
             "ticks": ""
            },
            "colorscale": [
             [
              0,
              "#0d0887"
             ],
             [
              0.1111111111111111,
              "#46039f"
             ],
             [
              0.2222222222222222,
              "#7201a8"
             ],
             [
              0.3333333333333333,
              "#9c179e"
             ],
             [
              0.4444444444444444,
              "#bd3786"
             ],
             [
              0.5555555555555556,
              "#d8576b"
             ],
             [
              0.6666666666666666,
              "#ed7953"
             ],
             [
              0.7777777777777778,
              "#fb9f3a"
             ],
             [
              0.8888888888888888,
              "#fdca26"
             ],
             [
              1,
              "#f0f921"
             ]
            ],
            "type": "surface"
           }
          ],
          "table": [
           {
            "cells": {
             "fill": {
              "color": "#EBF0F8"
             },
             "line": {
              "color": "white"
             }
            },
            "header": {
             "fill": {
              "color": "#C8D4E3"
             },
             "line": {
              "color": "white"
             }
            },
            "type": "table"
           }
          ]
         },
         "layout": {
          "annotationdefaults": {
           "arrowcolor": "#2a3f5f",
           "arrowhead": 0,
           "arrowwidth": 1
          },
          "autotypenumbers": "strict",
          "coloraxis": {
           "colorbar": {
            "outlinewidth": 0,
            "ticks": ""
           }
          },
          "colorscale": {
           "diverging": [
            [
             0,
             "#8e0152"
            ],
            [
             0.1,
             "#c51b7d"
            ],
            [
             0.2,
             "#de77ae"
            ],
            [
             0.3,
             "#f1b6da"
            ],
            [
             0.4,
             "#fde0ef"
            ],
            [
             0.5,
             "#f7f7f7"
            ],
            [
             0.6,
             "#e6f5d0"
            ],
            [
             0.7,
             "#b8e186"
            ],
            [
             0.8,
             "#7fbc41"
            ],
            [
             0.9,
             "#4d9221"
            ],
            [
             1,
             "#276419"
            ]
           ],
           "sequential": [
            [
             0,
             "#0d0887"
            ],
            [
             0.1111111111111111,
             "#46039f"
            ],
            [
             0.2222222222222222,
             "#7201a8"
            ],
            [
             0.3333333333333333,
             "#9c179e"
            ],
            [
             0.4444444444444444,
             "#bd3786"
            ],
            [
             0.5555555555555556,
             "#d8576b"
            ],
            [
             0.6666666666666666,
             "#ed7953"
            ],
            [
             0.7777777777777778,
             "#fb9f3a"
            ],
            [
             0.8888888888888888,
             "#fdca26"
            ],
            [
             1,
             "#f0f921"
            ]
           ],
           "sequentialminus": [
            [
             0,
             "#0d0887"
            ],
            [
             0.1111111111111111,
             "#46039f"
            ],
            [
             0.2222222222222222,
             "#7201a8"
            ],
            [
             0.3333333333333333,
             "#9c179e"
            ],
            [
             0.4444444444444444,
             "#bd3786"
            ],
            [
             0.5555555555555556,
             "#d8576b"
            ],
            [
             0.6666666666666666,
             "#ed7953"
            ],
            [
             0.7777777777777778,
             "#fb9f3a"
            ],
            [
             0.8888888888888888,
             "#fdca26"
            ],
            [
             1,
             "#f0f921"
            ]
           ]
          },
          "colorway": [
           "#636efa",
           "#EF553B",
           "#00cc96",
           "#ab63fa",
           "#FFA15A",
           "#19d3f3",
           "#FF6692",
           "#B6E880",
           "#FF97FF",
           "#FECB52"
          ],
          "font": {
           "color": "#2a3f5f"
          },
          "geo": {
           "bgcolor": "white",
           "lakecolor": "white",
           "landcolor": "#E5ECF6",
           "showlakes": true,
           "showland": true,
           "subunitcolor": "white"
          },
          "hoverlabel": {
           "align": "left"
          },
          "hovermode": "closest",
          "mapbox": {
           "style": "light"
          },
          "paper_bgcolor": "white",
          "plot_bgcolor": "#E5ECF6",
          "polar": {
           "angularaxis": {
            "gridcolor": "white",
            "linecolor": "white",
            "ticks": ""
           },
           "bgcolor": "#E5ECF6",
           "radialaxis": {
            "gridcolor": "white",
            "linecolor": "white",
            "ticks": ""
           }
          },
          "scene": {
           "xaxis": {
            "backgroundcolor": "#E5ECF6",
            "gridcolor": "white",
            "gridwidth": 2,
            "linecolor": "white",
            "showbackground": true,
            "ticks": "",
            "zerolinecolor": "white"
           },
           "yaxis": {
            "backgroundcolor": "#E5ECF6",
            "gridcolor": "white",
            "gridwidth": 2,
            "linecolor": "white",
            "showbackground": true,
            "ticks": "",
            "zerolinecolor": "white"
           },
           "zaxis": {
            "backgroundcolor": "#E5ECF6",
            "gridcolor": "white",
            "gridwidth": 2,
            "linecolor": "white",
            "showbackground": true,
            "ticks": "",
            "zerolinecolor": "white"
           }
          },
          "shapedefaults": {
           "line": {
            "color": "#2a3f5f"
           }
          },
          "ternary": {
           "aaxis": {
            "gridcolor": "white",
            "linecolor": "white",
            "ticks": ""
           },
           "baxis": {
            "gridcolor": "white",
            "linecolor": "white",
            "ticks": ""
           },
           "bgcolor": "#E5ECF6",
           "caxis": {
            "gridcolor": "white",
            "linecolor": "white",
            "ticks": ""
           }
          },
          "title": {
           "x": 0.05
          },
          "xaxis": {
           "automargin": true,
           "gridcolor": "white",
           "linecolor": "white",
           "ticks": "",
           "title": {
            "standoff": 15
           },
           "zerolinecolor": "white",
           "zerolinewidth": 2
          },
          "yaxis": {
           "automargin": true,
           "gridcolor": "white",
           "linecolor": "white",
           "ticks": "",
           "title": {
            "standoff": 15
           },
           "zerolinecolor": "white",
           "zerolinewidth": 2
          }
         }
        },
        "title": {
         "text": "actual vs predicted"
        },
        "xaxis": {
         "anchor": "y",
         "domain": [
          0,
          1
         ],
         "title": {
          "text": "y"
         }
        },
        "yaxis": {
         "anchor": "x",
         "domain": [
          0,
          1
         ],
         "title": {
          "text": "predicted"
         }
        }
       }
      }
     },
     "metadata": {},
     "output_type": "display_data"
    }
   ],
   "source": [
    "for epoch in range(epochs):\n",
    "    y_pred = X_augmented @ weights\n",
    "    error = y_pred - y\n",
    "    loss = np.mean(error ** 2)\n",
    "    \n",
    "    grad = 2 * X_augmented.T @ error / len(y)\n",
    "    weights = weights - lr * grad\n",
    "    \n",
    "    if epoch%100 == 0:\n",
    "        print(f\"Epoch: {epoch}, Loss: {loss:.4f}, w: {weights}\")\n",
    "        \n",
    "\n",
    "print(f\"learned weights: {weights}\")\n",
    "\n",
    "df[\"y_pred\"] = X_augmented @ weights\n",
    "\n",
    "fig = px.scatter(df, x=\"y\", y=\"y_pred\", title=\"actual vs predicted\")\n",
    "fig.add_shape(type=\"line\", x0=df[\"y\"].min(), x1=df[\"y\"].max(), y0=df[\"y\"].min(), y1=df[\"y\"].max(), line=dict(color=\"red\", dash=\"dash\"))\n",
    "fig.update_layout(xaxis_title=\"y\", yaxis_title=\"predicted\")\n",
    "fig.show()\n",
    "    "
   ]
  },
  {
   "cell_type": "markdown",
   "id": "26d7ab7d",
   "metadata": {},
   "source": [
    "### using class"
   ]
  },
  {
   "cell_type": "code",
   "execution_count": 2,
   "id": "384a17c8",
   "metadata": {},
   "outputs": [],
   "source": [
    "import pickle\n",
    "import numpy as np\n",
    "import pandas as pd\n",
    "from typing import Optional\n",
    "import plotly.express as px"
   ]
  },
  {
   "cell_type": "code",
   "execution_count": 3,
   "id": "ac8de223",
   "metadata": {},
   "outputs": [
    {
     "data": {
      "application/vnd.plotly.v1+json": {
       "config": {
        "plotlyServerURL": "https://plot.ly"
       },
       "data": [
        {
         "hovertemplate": "x=%{x}<br>y=%{y}<extra></extra>",
         "legendgroup": "",
         "marker": {
          "color": "rgb(76,114,176)",
          "symbol": "circle"
         },
         "mode": "markers",
         "name": "",
         "orientation": "v",
         "showlegend": false,
         "type": "scatter",
         "x": {
          "bdata": "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",
          "dtype": "f8"
         },
         "xaxis": "x",
         "y": {
          "bdata": "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",
          "dtype": "f8"
         },
         "yaxis": "y"
        }
       ],
       "layout": {
        "legend": {
         "tracegroupgap": 0
        },
        "template": {
         "data": {
          "bar": [
           {
            "error_x": {
             "color": "rgb(36,36,36)"
            },
            "error_y": {
             "color": "rgb(36,36,36)"
            },
            "marker": {
             "line": {
              "color": "rgb(234,234,242)",
              "width": 0.5
             },
             "pattern": {
              "fillmode": "overlay",
              "size": 10,
              "solidity": 0.2
             }
            },
            "type": "bar"
           }
          ],
          "barpolar": [
           {
            "marker": {
             "line": {
              "color": "rgb(234,234,242)",
              "width": 0.5
             },
             "pattern": {
              "fillmode": "overlay",
              "size": 10,
              "solidity": 0.2
             }
            },
            "type": "barpolar"
           }
          ],
          "carpet": [
           {
            "aaxis": {
             "endlinecolor": "rgb(36,36,36)",
             "gridcolor": "white",
             "linecolor": "white",
             "minorgridcolor": "white",
             "startlinecolor": "rgb(36,36,36)"
            },
            "baxis": {
             "endlinecolor": "rgb(36,36,36)",
             "gridcolor": "white",
             "linecolor": "white",
             "minorgridcolor": "white",
             "startlinecolor": "rgb(36,36,36)"
            },
            "type": "carpet"
           }
          ],
          "choropleth": [
           {
            "colorbar": {
             "outlinewidth": 0,
             "tickcolor": "rgb(36,36,36)",
             "ticklen": 8,
             "ticks": "outside",
             "tickwidth": 2
            },
            "type": "choropleth"
           }
          ],
          "contour": [
           {
            "colorbar": {
             "outlinewidth": 0,
             "tickcolor": "rgb(36,36,36)",
             "ticklen": 8,
             "ticks": "outside",
             "tickwidth": 2
            },
            "colorscale": [
             [
              0,
              "rgb(2,4,25)"
             ],
             [
              0.06274509803921569,
              "rgb(24,15,41)"
             ],
             [
              0.12549019607843137,
              "rgb(47,23,57)"
             ],
             [
              0.18823529411764706,
              "rgb(71,28,72)"
             ],
             [
              0.25098039215686274,
              "rgb(97,30,82)"
             ],
             [
              0.3137254901960784,
              "rgb(123,30,89)"
             ],
             [
              0.3764705882352941,
              "rgb(150,27,91)"
             ],
             [
              0.4392156862745098,
              "rgb(177,22,88)"
             ],
             [
              0.5019607843137255,
              "rgb(203,26,79)"
             ],
             [
              0.5647058823529412,
              "rgb(223,47,67)"
             ],
             [
              0.6274509803921569,
              "rgb(236,76,61)"
             ],
             [
              0.6901960784313725,
              "rgb(242,107,73)"
             ],
             [
              0.7529411764705882,
              "rgb(244,135,95)"
             ],
             [
              0.8156862745098039,
              "rgb(245,162,122)"
             ],
             [
              0.8784313725490196,
              "rgb(246,188,153)"
             ],
             [
              0.9411764705882353,
              "rgb(247,212,187)"
             ],
             [
              1,
              "rgb(250,234,220)"
             ]
            ],
            "type": "contour"
           }
          ],
          "contourcarpet": [
           {
            "colorbar": {
             "outlinewidth": 0,
             "tickcolor": "rgb(36,36,36)",
             "ticklen": 8,
             "ticks": "outside",
             "tickwidth": 2
            },
            "type": "contourcarpet"
           }
          ],
          "heatmap": [
           {
            "colorbar": {
             "outlinewidth": 0,
             "tickcolor": "rgb(36,36,36)",
             "ticklen": 8,
             "ticks": "outside",
             "tickwidth": 2
            },
            "colorscale": [
             [
              0,
              "rgb(2,4,25)"
             ],
             [
              0.06274509803921569,
              "rgb(24,15,41)"
             ],
             [
              0.12549019607843137,
              "rgb(47,23,57)"
             ],
             [
              0.18823529411764706,
              "rgb(71,28,72)"
             ],
             [
              0.25098039215686274,
              "rgb(97,30,82)"
             ],
             [
              0.3137254901960784,
              "rgb(123,30,89)"
             ],
             [
              0.3764705882352941,
              "rgb(150,27,91)"
             ],
             [
              0.4392156862745098,
              "rgb(177,22,88)"
             ],
             [
              0.5019607843137255,
              "rgb(203,26,79)"
             ],
             [
              0.5647058823529412,
              "rgb(223,47,67)"
             ],
             [
              0.6274509803921569,
              "rgb(236,76,61)"
             ],
             [
              0.6901960784313725,
              "rgb(242,107,73)"
             ],
             [
              0.7529411764705882,
              "rgb(244,135,95)"
             ],
             [
              0.8156862745098039,
              "rgb(245,162,122)"
             ],
             [
              0.8784313725490196,
              "rgb(246,188,153)"
             ],
             [
              0.9411764705882353,
              "rgb(247,212,187)"
             ],
             [
              1,
              "rgb(250,234,220)"
             ]
            ],
            "type": "heatmap"
           }
          ],
          "histogram": [
           {
            "marker": {
             "pattern": {
              "fillmode": "overlay",
              "size": 10,
              "solidity": 0.2
             }
            },
            "type": "histogram"
           }
          ],
          "histogram2d": [
           {
            "colorbar": {
             "outlinewidth": 0,
             "tickcolor": "rgb(36,36,36)",
             "ticklen": 8,
             "ticks": "outside",
             "tickwidth": 2
            },
            "colorscale": [
             [
              0,
              "rgb(2,4,25)"
             ],
             [
              0.06274509803921569,
              "rgb(24,15,41)"
             ],
             [
              0.12549019607843137,
              "rgb(47,23,57)"
             ],
             [
              0.18823529411764706,
              "rgb(71,28,72)"
             ],
             [
              0.25098039215686274,
              "rgb(97,30,82)"
             ],
             [
              0.3137254901960784,
              "rgb(123,30,89)"
             ],
             [
              0.3764705882352941,
              "rgb(150,27,91)"
             ],
             [
              0.4392156862745098,
              "rgb(177,22,88)"
             ],
             [
              0.5019607843137255,
              "rgb(203,26,79)"
             ],
             [
              0.5647058823529412,
              "rgb(223,47,67)"
             ],
             [
              0.6274509803921569,
              "rgb(236,76,61)"
             ],
             [
              0.6901960784313725,
              "rgb(242,107,73)"
             ],
             [
              0.7529411764705882,
              "rgb(244,135,95)"
             ],
             [
              0.8156862745098039,
              "rgb(245,162,122)"
             ],
             [
              0.8784313725490196,
              "rgb(246,188,153)"
             ],
             [
              0.9411764705882353,
              "rgb(247,212,187)"
             ],
             [
              1,
              "rgb(250,234,220)"
             ]
            ],
            "type": "histogram2d"
           }
          ],
          "histogram2dcontour": [
           {
            "colorbar": {
             "outlinewidth": 0,
             "tickcolor": "rgb(36,36,36)",
             "ticklen": 8,
             "ticks": "outside",
             "tickwidth": 2
            },
            "colorscale": [
             [
              0,
              "rgb(2,4,25)"
             ],
             [
              0.06274509803921569,
              "rgb(24,15,41)"
             ],
             [
              0.12549019607843137,
              "rgb(47,23,57)"
             ],
             [
              0.18823529411764706,
              "rgb(71,28,72)"
             ],
             [
              0.25098039215686274,
              "rgb(97,30,82)"
             ],
             [
              0.3137254901960784,
              "rgb(123,30,89)"
             ],
             [
              0.3764705882352941,
              "rgb(150,27,91)"
             ],
             [
              0.4392156862745098,
              "rgb(177,22,88)"
             ],
             [
              0.5019607843137255,
              "rgb(203,26,79)"
             ],
             [
              0.5647058823529412,
              "rgb(223,47,67)"
             ],
             [
              0.6274509803921569,
              "rgb(236,76,61)"
             ],
             [
              0.6901960784313725,
              "rgb(242,107,73)"
             ],
             [
              0.7529411764705882,
              "rgb(244,135,95)"
             ],
             [
              0.8156862745098039,
              "rgb(245,162,122)"
             ],
             [
              0.8784313725490196,
              "rgb(246,188,153)"
             ],
             [
              0.9411764705882353,
              "rgb(247,212,187)"
             ],
             [
              1,
              "rgb(250,234,220)"
             ]
            ],
            "type": "histogram2dcontour"
           }
          ],
          "mesh3d": [
           {
            "colorbar": {
             "outlinewidth": 0,
             "tickcolor": "rgb(36,36,36)",
             "ticklen": 8,
             "ticks": "outside",
             "tickwidth": 2
            },
            "type": "mesh3d"
           }
          ],
          "parcoords": [
           {
            "line": {
             "colorbar": {
              "outlinewidth": 0,
              "tickcolor": "rgb(36,36,36)",
              "ticklen": 8,
              "ticks": "outside",
              "tickwidth": 2
             }
            },
            "type": "parcoords"
           }
          ],
          "pie": [
           {
            "automargin": true,
            "type": "pie"
           }
          ],
          "scatter": [
           {
            "fillpattern": {
             "fillmode": "overlay",
             "size": 10,
             "solidity": 0.2
            },
            "type": "scatter"
           }
          ],
          "scatter3d": [
           {
            "line": {
             "colorbar": {
              "outlinewidth": 0,
              "tickcolor": "rgb(36,36,36)",
              "ticklen": 8,
              "ticks": "outside",
              "tickwidth": 2
             }
            },
            "marker": {
             "colorbar": {
              "outlinewidth": 0,
              "tickcolor": "rgb(36,36,36)",
              "ticklen": 8,
              "ticks": "outside",
              "tickwidth": 2
             }
            },
            "type": "scatter3d"
           }
          ],
          "scattercarpet": [
           {
            "marker": {
             "colorbar": {
              "outlinewidth": 0,
              "tickcolor": "rgb(36,36,36)",
              "ticklen": 8,
              "ticks": "outside",
              "tickwidth": 2
             }
            },
            "type": "scattercarpet"
           }
          ],
          "scattergeo": [
           {
            "marker": {
             "colorbar": {
              "outlinewidth": 0,
              "tickcolor": "rgb(36,36,36)",
              "ticklen": 8,
              "ticks": "outside",
              "tickwidth": 2
             }
            },
            "type": "scattergeo"
           }
          ],
          "scattergl": [
           {
            "marker": {
             "colorbar": {
              "outlinewidth": 0,
              "tickcolor": "rgb(36,36,36)",
              "ticklen": 8,
              "ticks": "outside",
              "tickwidth": 2
             }
            },
            "type": "scattergl"
           }
          ],
          "scattermap": [
           {
            "marker": {
             "colorbar": {
              "outlinewidth": 0,
              "tickcolor": "rgb(36,36,36)",
              "ticklen": 8,
              "ticks": "outside",
              "tickwidth": 2
             }
            },
            "type": "scattermap"
           }
          ],
          "scattermapbox": [
           {
            "marker": {
             "colorbar": {
              "outlinewidth": 0,
              "tickcolor": "rgb(36,36,36)",
              "ticklen": 8,
              "ticks": "outside",
              "tickwidth": 2
             }
            },
            "type": "scattermapbox"
           }
          ],
          "scatterpolar": [
           {
            "marker": {
             "colorbar": {
              "outlinewidth": 0,
              "tickcolor": "rgb(36,36,36)",
              "ticklen": 8,
              "ticks": "outside",
              "tickwidth": 2
             }
            },
            "type": "scatterpolar"
           }
          ],
          "scatterpolargl": [
           {
            "marker": {
             "colorbar": {
              "outlinewidth": 0,
              "tickcolor": "rgb(36,36,36)",
              "ticklen": 8,
              "ticks": "outside",
              "tickwidth": 2
             }
            },
            "type": "scatterpolargl"
           }
          ],
          "scatterternary": [
           {
            "marker": {
             "colorbar": {
              "outlinewidth": 0,
              "tickcolor": "rgb(36,36,36)",
              "ticklen": 8,
              "ticks": "outside",
              "tickwidth": 2
             }
            },
            "type": "scatterternary"
           }
          ],
          "surface": [
           {
            "colorbar": {
             "outlinewidth": 0,
             "tickcolor": "rgb(36,36,36)",
             "ticklen": 8,
             "ticks": "outside",
             "tickwidth": 2
            },
            "colorscale": [
             [
              0,
              "rgb(2,4,25)"
             ],
             [
              0.06274509803921569,
              "rgb(24,15,41)"
             ],
             [
              0.12549019607843137,
              "rgb(47,23,57)"
             ],
             [
              0.18823529411764706,
              "rgb(71,28,72)"
             ],
             [
              0.25098039215686274,
              "rgb(97,30,82)"
             ],
             [
              0.3137254901960784,
              "rgb(123,30,89)"
             ],
             [
              0.3764705882352941,
              "rgb(150,27,91)"
             ],
             [
              0.4392156862745098,
              "rgb(177,22,88)"
             ],
             [
              0.5019607843137255,
              "rgb(203,26,79)"
             ],
             [
              0.5647058823529412,
              "rgb(223,47,67)"
             ],
             [
              0.6274509803921569,
              "rgb(236,76,61)"
             ],
             [
              0.6901960784313725,
              "rgb(242,107,73)"
             ],
             [
              0.7529411764705882,
              "rgb(244,135,95)"
             ],
             [
              0.8156862745098039,
              "rgb(245,162,122)"
             ],
             [
              0.8784313725490196,
              "rgb(246,188,153)"
             ],
             [
              0.9411764705882353,
              "rgb(247,212,187)"
             ],
             [
              1,
              "rgb(250,234,220)"
             ]
            ],
            "type": "surface"
           }
          ],
          "table": [
           {
            "cells": {
             "fill": {
              "color": "rgb(231,231,240)"
             },
             "line": {
              "color": "white"
             }
            },
            "header": {
             "fill": {
              "color": "rgb(183,183,191)"
             },
             "line": {
              "color": "white"
             }
            },
            "type": "table"
           }
          ]
         },
         "layout": {
          "annotationdefaults": {
           "arrowcolor": "rgb(67,103,167)"
          },
          "autotypenumbers": "strict",
          "coloraxis": {
           "colorbar": {
            "outlinewidth": 0,
            "tickcolor": "rgb(36,36,36)",
            "ticklen": 8,
            "ticks": "outside",
            "tickwidth": 2
           }
          },
          "colorscale": {
           "sequential": [
            [
             0,
             "rgb(2,4,25)"
            ],
            [
             0.06274509803921569,
             "rgb(24,15,41)"
            ],
            [
             0.12549019607843137,
             "rgb(47,23,57)"
            ],
            [
             0.18823529411764706,
             "rgb(71,28,72)"
            ],
            [
             0.25098039215686274,
             "rgb(97,30,82)"
            ],
            [
             0.3137254901960784,
             "rgb(123,30,89)"
            ],
            [
             0.3764705882352941,
             "rgb(150,27,91)"
            ],
            [
             0.4392156862745098,
             "rgb(177,22,88)"
            ],
            [
             0.5019607843137255,
             "rgb(203,26,79)"
            ],
            [
             0.5647058823529412,
             "rgb(223,47,67)"
            ],
            [
             0.6274509803921569,
             "rgb(236,76,61)"
            ],
            [
             0.6901960784313725,
             "rgb(242,107,73)"
            ],
            [
             0.7529411764705882,
             "rgb(244,135,95)"
            ],
            [
             0.8156862745098039,
             "rgb(245,162,122)"
            ],
            [
             0.8784313725490196,
             "rgb(246,188,153)"
            ],
            [
             0.9411764705882353,
             "rgb(247,212,187)"
            ],
            [
             1,
             "rgb(250,234,220)"
            ]
           ],
           "sequentialminus": [
            [
             0,
             "rgb(2,4,25)"
            ],
            [
             0.06274509803921569,
             "rgb(24,15,41)"
            ],
            [
             0.12549019607843137,
             "rgb(47,23,57)"
            ],
            [
             0.18823529411764706,
             "rgb(71,28,72)"
            ],
            [
             0.25098039215686274,
             "rgb(97,30,82)"
            ],
            [
             0.3137254901960784,
             "rgb(123,30,89)"
            ],
            [
             0.3764705882352941,
             "rgb(150,27,91)"
            ],
            [
             0.4392156862745098,
             "rgb(177,22,88)"
            ],
            [
             0.5019607843137255,
             "rgb(203,26,79)"
            ],
            [
             0.5647058823529412,
             "rgb(223,47,67)"
            ],
            [
             0.6274509803921569,
             "rgb(236,76,61)"
            ],
            [
             0.6901960784313725,
             "rgb(242,107,73)"
            ],
            [
             0.7529411764705882,
             "rgb(244,135,95)"
            ],
            [
             0.8156862745098039,
             "rgb(245,162,122)"
            ],
            [
             0.8784313725490196,
             "rgb(246,188,153)"
            ],
            [
             0.9411764705882353,
             "rgb(247,212,187)"
            ],
            [
             1,
             "rgb(250,234,220)"
            ]
           ]
          },
          "colorway": [
           "rgb(76,114,176)",
           "rgb(221,132,82)",
           "rgb(85,168,104)",
           "rgb(196,78,82)",
           "rgb(129,114,179)",
           "rgb(147,120,96)",
           "rgb(218,139,195)",
           "rgb(140,140,140)",
           "rgb(204,185,116)",
           "rgb(100,181,205)"
          ],
          "font": {
           "color": "rgb(36,36,36)"
          },
          "geo": {
           "bgcolor": "white",
           "lakecolor": "white",
           "landcolor": "rgb(234,234,242)",
           "showlakes": true,
           "showland": true,
           "subunitcolor": "white"
          },
          "hoverlabel": {
           "align": "left"
          },
          "hovermode": "closest",
          "paper_bgcolor": "white",
          "plot_bgcolor": "rgb(234,234,242)",
          "polar": {
           "angularaxis": {
            "gridcolor": "white",
            "linecolor": "white",
            "showgrid": true,
            "ticks": ""
           },
           "bgcolor": "rgb(234,234,242)",
           "radialaxis": {
            "gridcolor": "white",
            "linecolor": "white",
            "showgrid": true,
            "ticks": ""
           }
          },
          "scene": {
           "xaxis": {
            "backgroundcolor": "rgb(234,234,242)",
            "gridcolor": "white",
            "gridwidth": 2,
            "linecolor": "white",
            "showbackground": true,
            "showgrid": true,
            "ticks": "",
            "zerolinecolor": "white"
           },
           "yaxis": {
            "backgroundcolor": "rgb(234,234,242)",
            "gridcolor": "white",
            "gridwidth": 2,
            "linecolor": "white",
            "showbackground": true,
            "showgrid": true,
            "ticks": "",
            "zerolinecolor": "white"
           },
           "zaxis": {
            "backgroundcolor": "rgb(234,234,242)",
            "gridcolor": "white",
            "gridwidth": 2,
            "linecolor": "white",
            "showbackground": true,
            "showgrid": true,
            "ticks": "",
            "zerolinecolor": "white"
           }
          },
          "shapedefaults": {
           "fillcolor": "rgb(67,103,167)",
           "line": {
            "width": 0
           },
           "opacity": 0.5
          },
          "ternary": {
           "aaxis": {
            "gridcolor": "white",
            "linecolor": "white",
            "showgrid": true,
            "ticks": ""
           },
           "baxis": {
            "gridcolor": "white",
            "linecolor": "white",
            "showgrid": true,
            "ticks": ""
           },
           "bgcolor": "rgb(234,234,242)",
           "caxis": {
            "gridcolor": "white",
            "linecolor": "white",
            "showgrid": true,
            "ticks": ""
           }
          },
          "xaxis": {
           "automargin": true,
           "gridcolor": "white",
           "linecolor": "white",
           "showgrid": true,
           "ticks": "",
           "title": {
            "standoff": 15
           },
           "zerolinecolor": "white"
          },
          "yaxis": {
           "automargin": true,
           "gridcolor": "white",
           "linecolor": "white",
           "showgrid": true,
           "ticks": "",
           "title": {
            "standoff": 15
           },
           "zerolinecolor": "white"
          }
         }
        },
        "title": {
         "text": "actual data"
        },
        "xaxis": {
         "anchor": "y",
         "domain": [
          0,
          1
         ],
         "title": {
          "text": "x"
         }
        },
        "yaxis": {
         "anchor": "x",
         "domain": [
          0,
          1
         ],
         "title": {
          "text": "y"
         }
        }
       }
      }
     },
     "metadata": {},
     "output_type": "display_data"
    }
   ],
   "source": [
    "train_data = pd.read_csv(\"train.csv\")\n",
    "test_data = pd.read_csv(\"test.csv\")\n",
    "train_data.dropna(inplace=True)\n",
    "test_data.dropna(inplace=True)\n",
    "\n",
    "px.scatter(x=train_data[\"x\"] , y=train_data[\"y\"], title=\"actual data\", template=\"seaborn\")"
   ]
  },
  {
   "cell_type": "code",
   "execution_count": 5,
   "id": "a38da472",
   "metadata": {},
   "outputs": [
    {
     "name": "stdout",
     "output_type": "stream",
     "text": [
      "(699,) (300,)\n",
      "(699,) (300,)\n",
      "(699, 1) (300, 1)\n"
     ]
    }
   ],
   "source": [
    "x_train, y_train = train_data[\"x\"].values, train_data[\"y\"].values\n",
    "x_test, y_test = test_data[\"x\"].values, test_data[\"y\"].values\n",
    "print(x_train.shape, x_test.shape)\n",
    "\n",
    "# option 1: manual standardize and reshape\n",
    "def standardize(x_train, x_test):\n",
    "    mean = np.mean(x_train, axis=0)\n",
    "    std = np.std(x_train, axis=0)\n",
    "    x_train = (x_train - mean) / std\n",
    "    x_test = (x_test - mean) / std\n",
    "    return x_train, x_test\n",
    "x_train, x_test = standardize(x_train, x_test)\n",
    "print(x_train.shape, x_test.shape)\n",
    "\n",
    "x_train = np.expand_dims(x_train, axis=-1)\n",
    "x_test = np.expand_dims(x_test, axis=-1) # standardize based on train data's mean and std\n",
    "print(x_train.shape, x_test.shape)\n",
    "\n",
    "# # option 2: sklearn standardize \n",
    "# from sklearn.preprocessing import StandardScaler\n",
    "# scaler = StandardScaler()\n",
    "# x_train = scaler.fit_transform(x_train.reshape(-1, 1))\n",
    "# x_test = scaler.transform(x_test.reshape(-1, 1))\n",
    "# print(x_train.shape, x_test.shape)"
   ]
  },
  {
   "cell_type": "code",
   "execution_count": 6,
   "id": "afd8f225",
   "metadata": {},
   "outputs": [
    {
     "name": "stdout",
     "output_type": "stream",
     "text": [
      "Epoch: 0, Loss: 57.793635\n",
      "Epoch: 100, Loss: 21.314777\n",
      "Epoch: 200, Loss: 8.226982\n",
      "Epoch: 300, Loss: 3.985199\n",
      "Epoch: 400, Loss: 2.990230\n",
      "Epoch: 500, Loss: 2.830479\n",
      "Epoch: 600, Loss: 2.808385\n",
      "Epoch: 700, Loss: 2.805412\n",
      "Epoch: 800, Loss: 2.805013\n",
      "converged at epoch 812 with loss 2.805000\n"
     ]
    },
    {
     "data": {
      "application/vnd.plotly.v1+json": {
       "config": {
        "plotlyServerURL": "https://plot.ly"
       },
       "data": [
        {
         "hovertemplate": "x=%{x}<br>y=%{y}<extra></extra>",
         "legendgroup": "",
         "line": {
          "color": "rgb(76,114,176)",
          "dash": "solid"
         },
         "marker": {
          "symbol": "circle"
         },
         "mode": "lines",
         "name": "",
         "orientation": "v",
         "showlegend": false,
         "type": "scatter",
         "x": {
          "bdata": "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",
          "dtype": "i2"
         },
         "xaxis": "x",
         "y": {
          "bdata": "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",
          "dtype": "f8"
         },
         "yaxis": "y"
        }
       ],
       "layout": {
        "legend": {
         "tracegroupgap": 0
        },
        "template": {
         "data": {
          "bar": [
           {
            "error_x": {
             "color": "rgb(36,36,36)"
            },
            "error_y": {
             "color": "rgb(36,36,36)"
            },
            "marker": {
             "line": {
              "color": "rgb(234,234,242)",
              "width": 0.5
             },
             "pattern": {
              "fillmode": "overlay",
              "size": 10,
              "solidity": 0.2
             }
            },
            "type": "bar"
           }
          ],
          "barpolar": [
           {
            "marker": {
             "line": {
              "color": "rgb(234,234,242)",
              "width": 0.5
             },
             "pattern": {
              "fillmode": "overlay",
              "size": 10,
              "solidity": 0.2
             }
            },
            "type": "barpolar"
           }
          ],
          "carpet": [
           {
            "aaxis": {
             "endlinecolor": "rgb(36,36,36)",
             "gridcolor": "white",
             "linecolor": "white",
             "minorgridcolor": "white",
             "startlinecolor": "rgb(36,36,36)"
            },
            "baxis": {
             "endlinecolor": "rgb(36,36,36)",
             "gridcolor": "white",
             "linecolor": "white",
             "minorgridcolor": "white",
             "startlinecolor": "rgb(36,36,36)"
            },
            "type": "carpet"
           }
          ],
          "choropleth": [
           {
            "colorbar": {
             "outlinewidth": 0,
             "tickcolor": "rgb(36,36,36)",
             "ticklen": 8,
             "ticks": "outside",
             "tickwidth": 2
            },
            "type": "choropleth"
           }
          ],
          "contour": [
           {
            "colorbar": {
             "outlinewidth": 0,
             "tickcolor": "rgb(36,36,36)",
             "ticklen": 8,
             "ticks": "outside",
             "tickwidth": 2
            },
            "colorscale": [
             [
              0,
              "rgb(2,4,25)"
             ],
             [
              0.06274509803921569,
              "rgb(24,15,41)"
             ],
             [
              0.12549019607843137,
              "rgb(47,23,57)"
             ],
             [
              0.18823529411764706,
              "rgb(71,28,72)"
             ],
             [
              0.25098039215686274,
              "rgb(97,30,82)"
             ],
             [
              0.3137254901960784,
              "rgb(123,30,89)"
             ],
             [
              0.3764705882352941,
              "rgb(150,27,91)"
             ],
             [
              0.4392156862745098,
              "rgb(177,22,88)"
             ],
             [
              0.5019607843137255,
              "rgb(203,26,79)"
             ],
             [
              0.5647058823529412,
              "rgb(223,47,67)"
             ],
             [
              0.6274509803921569,
              "rgb(236,76,61)"
             ],
             [
              0.6901960784313725,
              "rgb(242,107,73)"
             ],
             [
              0.7529411764705882,
              "rgb(244,135,95)"
             ],
             [
              0.8156862745098039,
              "rgb(245,162,122)"
             ],
             [
              0.8784313725490196,
              "rgb(246,188,153)"
             ],
             [
              0.9411764705882353,
              "rgb(247,212,187)"
             ],
             [
              1,
              "rgb(250,234,220)"
             ]
            ],
            "type": "contour"
           }
          ],
          "contourcarpet": [
           {
            "colorbar": {
             "outlinewidth": 0,
             "tickcolor": "rgb(36,36,36)",
             "ticklen": 8,
             "ticks": "outside",
             "tickwidth": 2
            },
            "type": "contourcarpet"
           }
          ],
          "heatmap": [
           {
            "colorbar": {
             "outlinewidth": 0,
             "tickcolor": "rgb(36,36,36)",
             "ticklen": 8,
             "ticks": "outside",
             "tickwidth": 2
            },
            "colorscale": [
             [
              0,
              "rgb(2,4,25)"
             ],
             [
              0.06274509803921569,
              "rgb(24,15,41)"
             ],
             [
              0.12549019607843137,
              "rgb(47,23,57)"
             ],
             [
              0.18823529411764706,
              "rgb(71,28,72)"
             ],
             [
              0.25098039215686274,
              "rgb(97,30,82)"
             ],
             [
              0.3137254901960784,
              "rgb(123,30,89)"
             ],
             [
              0.3764705882352941,
              "rgb(150,27,91)"
             ],
             [
              0.4392156862745098,
              "rgb(177,22,88)"
             ],
             [
              0.5019607843137255,
              "rgb(203,26,79)"
             ],
             [
              0.5647058823529412,
              "rgb(223,47,67)"
             ],
             [
              0.6274509803921569,
              "rgb(236,76,61)"
             ],
             [
              0.6901960784313725,
              "rgb(242,107,73)"
             ],
             [
              0.7529411764705882,
              "rgb(244,135,95)"
             ],
             [
              0.8156862745098039,
              "rgb(245,162,122)"
             ],
             [
              0.8784313725490196,
              "rgb(246,188,153)"
             ],
             [
              0.9411764705882353,
              "rgb(247,212,187)"
             ],
             [
              1,
              "rgb(250,234,220)"
             ]
            ],
            "type": "heatmap"
           }
          ],
          "histogram": [
           {
            "marker": {
             "pattern": {
              "fillmode": "overlay",
              "size": 10,
              "solidity": 0.2
             }
            },
            "type": "histogram"
           }
          ],
          "histogram2d": [
           {
            "colorbar": {
             "outlinewidth": 0,
             "tickcolor": "rgb(36,36,36)",
             "ticklen": 8,
             "ticks": "outside",
             "tickwidth": 2
            },
            "colorscale": [
             [
              0,
              "rgb(2,4,25)"
             ],
             [
              0.06274509803921569,
              "rgb(24,15,41)"
             ],
             [
              0.12549019607843137,
              "rgb(47,23,57)"
             ],
             [
              0.18823529411764706,
              "rgb(71,28,72)"
             ],
             [
              0.25098039215686274,
              "rgb(97,30,82)"
             ],
             [
              0.3137254901960784,
              "rgb(123,30,89)"
             ],
             [
              0.3764705882352941,
              "rgb(150,27,91)"
             ],
             [
              0.4392156862745098,
              "rgb(177,22,88)"
             ],
             [
              0.5019607843137255,
              "rgb(203,26,79)"
             ],
             [
              0.5647058823529412,
              "rgb(223,47,67)"
             ],
             [
              0.6274509803921569,
              "rgb(236,76,61)"
             ],
             [
              0.6901960784313725,
              "rgb(242,107,73)"
             ],
             [
              0.7529411764705882,
              "rgb(244,135,95)"
             ],
             [
              0.8156862745098039,
              "rgb(245,162,122)"
             ],
             [
              0.8784313725490196,
              "rgb(246,188,153)"
             ],
             [
              0.9411764705882353,
              "rgb(247,212,187)"
             ],
             [
              1,
              "rgb(250,234,220)"
             ]
            ],
            "type": "histogram2d"
           }
          ],
          "histogram2dcontour": [
           {
            "colorbar": {
             "outlinewidth": 0,
             "tickcolor": "rgb(36,36,36)",
             "ticklen": 8,
             "ticks": "outside",
             "tickwidth": 2
            },
            "colorscale": [
             [
              0,
              "rgb(2,4,25)"
             ],
             [
              0.06274509803921569,
              "rgb(24,15,41)"
             ],
             [
              0.12549019607843137,
              "rgb(47,23,57)"
             ],
             [
              0.18823529411764706,
              "rgb(71,28,72)"
             ],
             [
              0.25098039215686274,
              "rgb(97,30,82)"
             ],
             [
              0.3137254901960784,
              "rgb(123,30,89)"
             ],
             [
              0.3764705882352941,
              "rgb(150,27,91)"
             ],
             [
              0.4392156862745098,
              "rgb(177,22,88)"
             ],
             [
              0.5019607843137255,
              "rgb(203,26,79)"
             ],
             [
              0.5647058823529412,
              "rgb(223,47,67)"
             ],
             [
              0.6274509803921569,
              "rgb(236,76,61)"
             ],
             [
              0.6901960784313725,
              "rgb(242,107,73)"
             ],
             [
              0.7529411764705882,
              "rgb(244,135,95)"
             ],
             [
              0.8156862745098039,
              "rgb(245,162,122)"
             ],
             [
              0.8784313725490196,
              "rgb(246,188,153)"
             ],
             [
              0.9411764705882353,
              "rgb(247,212,187)"
             ],
             [
              1,
              "rgb(250,234,220)"
             ]
            ],
            "type": "histogram2dcontour"
           }
          ],
          "mesh3d": [
           {
            "colorbar": {
             "outlinewidth": 0,
             "tickcolor": "rgb(36,36,36)",
             "ticklen": 8,
             "ticks": "outside",
             "tickwidth": 2
            },
            "type": "mesh3d"
           }
          ],
          "parcoords": [
           {
            "line": {
             "colorbar": {
              "outlinewidth": 0,
              "tickcolor": "rgb(36,36,36)",
              "ticklen": 8,
              "ticks": "outside",
              "tickwidth": 2
             }
            },
            "type": "parcoords"
           }
          ],
          "pie": [
           {
            "automargin": true,
            "type": "pie"
           }
          ],
          "scatter": [
           {
            "fillpattern": {
             "fillmode": "overlay",
             "size": 10,
             "solidity": 0.2
            },
            "type": "scatter"
           }
          ],
          "scatter3d": [
           {
            "line": {
             "colorbar": {
              "outlinewidth": 0,
              "tickcolor": "rgb(36,36,36)",
              "ticklen": 8,
              "ticks": "outside",
              "tickwidth": 2
             }
            },
            "marker": {
             "colorbar": {
              "outlinewidth": 0,
              "tickcolor": "rgb(36,36,36)",
              "ticklen": 8,
              "ticks": "outside",
              "tickwidth": 2
             }
            },
            "type": "scatter3d"
           }
          ],
          "scattercarpet": [
           {
            "marker": {
             "colorbar": {
              "outlinewidth": 0,
              "tickcolor": "rgb(36,36,36)",
              "ticklen": 8,
              "ticks": "outside",
              "tickwidth": 2
             }
            },
            "type": "scattercarpet"
           }
          ],
          "scattergeo": [
           {
            "marker": {
             "colorbar": {
              "outlinewidth": 0,
              "tickcolor": "rgb(36,36,36)",
              "ticklen": 8,
              "ticks": "outside",
              "tickwidth": 2
             }
            },
            "type": "scattergeo"
           }
          ],
          "scattergl": [
           {
            "marker": {
             "colorbar": {
              "outlinewidth": 0,
              "tickcolor": "rgb(36,36,36)",
              "ticklen": 8,
              "ticks": "outside",
              "tickwidth": 2
             }
            },
            "type": "scattergl"
           }
          ],
          "scattermap": [
           {
            "marker": {
             "colorbar": {
              "outlinewidth": 0,
              "tickcolor": "rgb(36,36,36)",
              "ticklen": 8,
              "ticks": "outside",
              "tickwidth": 2
             }
            },
            "type": "scattermap"
           }
          ],
          "scattermapbox": [
           {
            "marker": {
             "colorbar": {
              "outlinewidth": 0,
              "tickcolor": "rgb(36,36,36)",
              "ticklen": 8,
              "ticks": "outside",
              "tickwidth": 2
             }
            },
            "type": "scattermapbox"
           }
          ],
          "scatterpolar": [
           {
            "marker": {
             "colorbar": {
              "outlinewidth": 0,
              "tickcolor": "rgb(36,36,36)",
              "ticklen": 8,
              "ticks": "outside",
              "tickwidth": 2
             }
            },
            "type": "scatterpolar"
           }
          ],
          "scatterpolargl": [
           {
            "marker": {
             "colorbar": {
              "outlinewidth": 0,
              "tickcolor": "rgb(36,36,36)",
              "ticklen": 8,
              "ticks": "outside",
              "tickwidth": 2
             }
            },
            "type": "scatterpolargl"
           }
          ],
          "scatterternary": [
           {
            "marker": {
             "colorbar": {
              "outlinewidth": 0,
              "tickcolor": "rgb(36,36,36)",
              "ticklen": 8,
              "ticks": "outside",
              "tickwidth": 2
             }
            },
            "type": "scatterternary"
           }
          ],
          "surface": [
           {
            "colorbar": {
             "outlinewidth": 0,
             "tickcolor": "rgb(36,36,36)",
             "ticklen": 8,
             "ticks": "outside",
             "tickwidth": 2
            },
            "colorscale": [
             [
              0,
              "rgb(2,4,25)"
             ],
             [
              0.06274509803921569,
              "rgb(24,15,41)"
             ],
             [
              0.12549019607843137,
              "rgb(47,23,57)"
             ],
             [
              0.18823529411764706,
              "rgb(71,28,72)"
             ],
             [
              0.25098039215686274,
              "rgb(97,30,82)"
             ],
             [
              0.3137254901960784,
              "rgb(123,30,89)"
             ],
             [
              0.3764705882352941,
              "rgb(150,27,91)"
             ],
             [
              0.4392156862745098,
              "rgb(177,22,88)"
             ],
             [
              0.5019607843137255,
              "rgb(203,26,79)"
             ],
             [
              0.5647058823529412,
              "rgb(223,47,67)"
             ],
             [
              0.6274509803921569,
              "rgb(236,76,61)"
             ],
             [
              0.6901960784313725,
              "rgb(242,107,73)"
             ],
             [
              0.7529411764705882,
              "rgb(244,135,95)"
             ],
             [
              0.8156862745098039,
              "rgb(245,162,122)"
             ],
             [
              0.8784313725490196,
              "rgb(246,188,153)"
             ],
             [
              0.9411764705882353,
              "rgb(247,212,187)"
             ],
             [
              1,
              "rgb(250,234,220)"
             ]
            ],
            "type": "surface"
           }
          ],
          "table": [
           {
            "cells": {
             "fill": {
              "color": "rgb(231,231,240)"
             },
             "line": {
              "color": "white"
             }
            },
            "header": {
             "fill": {
              "color": "rgb(183,183,191)"
             },
             "line": {
              "color": "white"
             }
            },
            "type": "table"
           }
          ]
         },
         "layout": {
          "annotationdefaults": {
           "arrowcolor": "rgb(67,103,167)"
          },
          "autotypenumbers": "strict",
          "coloraxis": {
           "colorbar": {
            "outlinewidth": 0,
            "tickcolor": "rgb(36,36,36)",
            "ticklen": 8,
            "ticks": "outside",
            "tickwidth": 2
           }
          },
          "colorscale": {
           "sequential": [
            [
             0,
             "rgb(2,4,25)"
            ],
            [
             0.06274509803921569,
             "rgb(24,15,41)"
            ],
            [
             0.12549019607843137,
             "rgb(47,23,57)"
            ],
            [
             0.18823529411764706,
             "rgb(71,28,72)"
            ],
            [
             0.25098039215686274,
             "rgb(97,30,82)"
            ],
            [
             0.3137254901960784,
             "rgb(123,30,89)"
            ],
            [
             0.3764705882352941,
             "rgb(150,27,91)"
            ],
            [
             0.4392156862745098,
             "rgb(177,22,88)"
            ],
            [
             0.5019607843137255,
             "rgb(203,26,79)"
            ],
            [
             0.5647058823529412,
             "rgb(223,47,67)"
            ],
            [
             0.6274509803921569,
             "rgb(236,76,61)"
            ],
            [
             0.6901960784313725,
             "rgb(242,107,73)"
            ],
            [
             0.7529411764705882,
             "rgb(244,135,95)"
            ],
            [
             0.8156862745098039,
             "rgb(245,162,122)"
            ],
            [
             0.8784313725490196,
             "rgb(246,188,153)"
            ],
            [
             0.9411764705882353,
             "rgb(247,212,187)"
            ],
            [
             1,
             "rgb(250,234,220)"
            ]
           ],
           "sequentialminus": [
            [
             0,
             "rgb(2,4,25)"
            ],
            [
             0.06274509803921569,
             "rgb(24,15,41)"
            ],
            [
             0.12549019607843137,
             "rgb(47,23,57)"
            ],
            [
             0.18823529411764706,
             "rgb(71,28,72)"
            ],
            [
             0.25098039215686274,
             "rgb(97,30,82)"
            ],
            [
             0.3137254901960784,
             "rgb(123,30,89)"
            ],
            [
             0.3764705882352941,
             "rgb(150,27,91)"
            ],
            [
             0.4392156862745098,
             "rgb(177,22,88)"
            ],
            [
             0.5019607843137255,
             "rgb(203,26,79)"
            ],
            [
             0.5647058823529412,
             "rgb(223,47,67)"
            ],
            [
             0.6274509803921569,
             "rgb(236,76,61)"
            ],
            [
             0.6901960784313725,
             "rgb(242,107,73)"
            ],
            [
             0.7529411764705882,
             "rgb(244,135,95)"
            ],
            [
             0.8156862745098039,
             "rgb(245,162,122)"
            ],
            [
             0.8784313725490196,
             "rgb(246,188,153)"
            ],
            [
             0.9411764705882353,
             "rgb(247,212,187)"
            ],
            [
             1,
             "rgb(250,234,220)"
            ]
           ]
          },
          "colorway": [
           "rgb(76,114,176)",
           "rgb(221,132,82)",
           "rgb(85,168,104)",
           "rgb(196,78,82)",
           "rgb(129,114,179)",
           "rgb(147,120,96)",
           "rgb(218,139,195)",
           "rgb(140,140,140)",
           "rgb(204,185,116)",
           "rgb(100,181,205)"
          ],
          "font": {
           "color": "rgb(36,36,36)"
          },
          "geo": {
           "bgcolor": "white",
           "lakecolor": "white",
           "landcolor": "rgb(234,234,242)",
           "showlakes": true,
           "showland": true,
           "subunitcolor": "white"
          },
          "hoverlabel": {
           "align": "left"
          },
          "hovermode": "closest",
          "paper_bgcolor": "white",
          "plot_bgcolor": "rgb(234,234,242)",
          "polar": {
           "angularaxis": {
            "gridcolor": "white",
            "linecolor": "white",
            "showgrid": true,
            "ticks": ""
           },
           "bgcolor": "rgb(234,234,242)",
           "radialaxis": {
            "gridcolor": "white",
            "linecolor": "white",
            "showgrid": true,
            "ticks": ""
           }
          },
          "scene": {
           "xaxis": {
            "backgroundcolor": "rgb(234,234,242)",
            "gridcolor": "white",
            "gridwidth": 2,
            "linecolor": "white",
            "showbackground": true,
            "showgrid": true,
            "ticks": "",
            "zerolinecolor": "white"
           },
           "yaxis": {
            "backgroundcolor": "rgb(234,234,242)",
            "gridcolor": "white",
            "gridwidth": 2,
            "linecolor": "white",
            "showbackground": true,
            "showgrid": true,
            "ticks": "",
            "zerolinecolor": "white"
           },
           "zaxis": {
            "backgroundcolor": "rgb(234,234,242)",
            "gridcolor": "white",
            "gridwidth": 2,
            "linecolor": "white",
            "showbackground": true,
            "showgrid": true,
            "ticks": "",
            "zerolinecolor": "white"
           }
          },
          "shapedefaults": {
           "fillcolor": "rgb(67,103,167)",
           "line": {
            "width": 0
           },
           "opacity": 0.5
          },
          "ternary": {
           "aaxis": {
            "gridcolor": "white",
            "linecolor": "white",
            "showgrid": true,
            "ticks": ""
           },
           "baxis": {
            "gridcolor": "white",
            "linecolor": "white",
            "showgrid": true,
            "ticks": ""
           },
           "bgcolor": "rgb(234,234,242)",
           "caxis": {
            "gridcolor": "white",
            "linecolor": "white",
            "showgrid": true,
            "ticks": ""
           }
          },
          "xaxis": {
           "automargin": true,
           "gridcolor": "white",
           "linecolor": "white",
           "showgrid": true,
           "ticks": "",
           "title": {
            "standoff": 15
           },
           "zerolinecolor": "white"
          },
          "yaxis": {
           "automargin": true,
           "gridcolor": "white",
           "linecolor": "white",
           "showgrid": true,
           "ticks": "",
           "title": {
            "standoff": 15
           },
           "zerolinecolor": "white"
          }
         }
        },
        "title": {
         "text": "loss vs epochs"
        },
        "xaxis": {
         "anchor": "y",
         "domain": [
          0,
          1
         ],
         "title": {
          "text": "epochs"
         }
        },
        "yaxis": {
         "anchor": "x",
         "domain": [
          0,
          1
         ],
         "title": {
          "text": "loss"
         }
        }
       }
      }
     },
     "metadata": {},
     "output_type": "display_data"
    }
   ],
   "source": [
    "class LinearRegression:\n",
    "    def __init__(self, lr: float, convergence_tolerance: float, loss_metric: str):\n",
    "        self.lr = lr\n",
    "        self.convergence_tolerance = convergence_tolerance\n",
    "        self.W: Optional[np.ndarray] = None\n",
    "        self.b: float = None\n",
    "        self.loss_metric = loss_metric\n",
    "    \n",
    "    def initialize_parameters(self, n_features: int):\n",
    "        self.W = np.random.randn(n_features) * 0.01\n",
    "        self.b = 0.0\n",
    "    \n",
    "    def forward(self, x: np.ndarray) -> np.ndarray:\n",
    "        return np.dot(x, self.W) + self.b\n",
    "    \n",
    "    def compute_loss(self, y_pred: np.ndarray, y_true: np.ndarray) -> float:\n",
    "        if self.loss_metric == \"mse\":\n",
    "            return np.mean(np.square(y_pred - y_true))/2\n",
    "        elif self.loss_metric == \"mae\":\n",
    "            return np.mean(np.abs(y_pred - y_true))\n",
    "        elif self.loss_metric == \"rmse\":\n",
    "            return np.sqrt(np.mean(np.square(y_pred - y_true)))\n",
    "        elif self.loss_metric == \"r2\":\n",
    "            return 1 - np.sum(np.square(y_pred - y_true)) / np.sum(np.square(y_true - np.mean(y_true)))\n",
    "        else:\n",
    "            raise ValueError(f\"Unknown loss metric: {self.loss_metric}\")\n",
    "            \n",
    "    \n",
    "    def compute_gradients(self, x: np.ndarray, y_pred: np.ndarray, y_true: np.ndarray):\n",
    "        n = len(y_true)\n",
    "        w_grad = np.dot(y_pred - y_true, x) / n\n",
    "        b_grad = np.sum(y_pred - y_true) / n\n",
    "        return w_grad, b_grad\n",
    "        \n",
    "    def fit(self, x: np.ndarray, y: np.ndarray, epochs: int, plot_loss: bool = True):\n",
    "        self.initialize_parameters(n_features=x.shape[1])\n",
    "        loss_history = []\n",
    "        \n",
    "        for epoch in range(epochs):\n",
    "            y_pred = self.forward(x)\n",
    "            loss = self.compute_loss(y_pred, y)\n",
    "            w_grad, b_grad = self.compute_gradients(x, y_pred, y)\n",
    "            \n",
    "            self.W -= self.lr * w_grad\n",
    "            self.b -= self.lr * b_grad\n",
    "            loss_history.append(loss)\n",
    "            \n",
    "            if epoch%100 == 0:\n",
    "                print(f\"Epoch: {epoch}, Loss: {loss:.6f}\")\n",
    "                \n",
    "            if epoch>0 and abs(loss_history[-1] - loss_history[-2]) < self.convergence_tolerance:\n",
    "                print(f\"converged at epoch {epoch} with loss {loss:.6f}\")\n",
    "                break\n",
    "        \n",
    "        if plot_loss:\n",
    "            fig = px.line(y=loss_history, title=\"loss vs epochs\", template=\"seaborn\")\n",
    "            fig.update_layout(\n",
    "                xaxis_title=\"epochs\",\n",
    "                yaxis_title=\"loss\"\n",
    "            )\n",
    "            fig.show()\n",
    "        \n",
    "    def predict(self, x: np.ndarray) -> np.ndarray:\n",
    "        return self.forward(x)\n",
    "    \n",
    "    def save_model(self, fname: str):\n",
    "        model_data = {\n",
    "            \"learning_rate\": self.lr,\n",
    "            \"convergence_tolerance\": self.convergence_tolerance,\n",
    "            \"weights\": self.W,\n",
    "            \"bias\": self.b,\n",
    "            \"loss_metric\": self.loss_metric\n",
    "        }\n",
    "        \n",
    "        with open(fname, \"wb\") as f:\n",
    "            pickle.dump(model_data, f)\n",
    "    \n",
    "    @classmethod\n",
    "    def load_model(cls, fname: str):\n",
    "        with open(fname, \"rb\") as f:\n",
    "            model_data = pickle.load(f)\n",
    "        \n",
    "        model = cls(model_data[\"learning_rate\"], model_data[\"convergence_tolerance\"], model_data[\"loss_metric\"])\n",
    "        model.W = model_data[\"weights\"]\n",
    "        model.b = model_data[\"bias\"]\n",
    "        \n",
    "        return model\n",
    "\n",
    "lr = LinearRegression(lr=0.01, convergence_tolerance=1e-6, loss_metric=\"rmse\")\n",
    "lr.fit(x_train, y_train, epochs=1000)      "
   ]
  },
  {
   "cell_type": "code",
   "execution_count": 7,
   "id": "baf2708f",
   "metadata": {},
   "outputs": [],
   "source": [
    "lr.save_model(\"lr_model.pkl\")"
   ]
  },
  {
   "cell_type": "code",
   "execution_count": 8,
   "id": "b18e03aa",
   "metadata": {},
   "outputs": [],
   "source": [
    "class RegressionMetrics:\n",
    "    @staticmethod\n",
    "    def mean_squared_error(y_true, y_pred):\n",
    "        assert len(y_true) == len(y_pred), \"Input arrays must have the same length.\"\n",
    "        mse = np.mean((y_true - y_pred) ** 2)\n",
    "        return mse\n",
    "\n",
    "    @staticmethod\n",
    "    def root_mean_squared_error(y_true, y_pred):\n",
    "        assert len(y_true) == len(y_pred), \"Input arrays must have the same length.\"\n",
    "        mse = RegressionMetrics.mean_squared_error(y_true, y_pred)\n",
    "        rmse = np.sqrt(mse)\n",
    "        return rmse\n",
    "\n",
    "    @staticmethod\n",
    "    def r_squared(y_true, y_pred):\n",
    "        assert len(y_true) == len(y_pred), \"Input arrays must have the same length.\"\n",
    "        mean_y = np.mean(y_true)\n",
    "        ss_total = np.sum((y_true - mean_y) ** 2)\n",
    "        ss_residual = np.sum((y_true - y_pred) ** 2)\n",
    "        r2 = 1 - (ss_residual / ss_total)\n",
    "        return r2"
   ]
  },
  {
   "cell_type": "code",
   "execution_count": 9,
   "id": "0bdf207a",
   "metadata": {},
   "outputs": [
    {
     "name": "stdout",
     "output_type": "stream",
     "text": [
      "Mean Squared Error (MSE): 9.449305483325524\n",
      "Root Mean Squared Error (RMSE): 3.0739722645667324\n",
      "R-squared (Coefficient of Determination): 0.9887819945534816\n"
     ]
    }
   ],
   "source": [
    "model = LinearRegression.load_model(\"lr_model.pkl\")\n",
    "y_pred = model.predict(x_test)\n",
    "\n",
    "mse_value = RegressionMetrics.mean_squared_error(y_test, y_pred)\n",
    "rmse_value = RegressionMetrics.root_mean_squared_error(y_test, y_pred)\n",
    "r_squared_value = RegressionMetrics.r_squared(y_test, y_pred)\n",
    "\n",
    "print(f\"Mean Squared Error (MSE): {mse_value}\")\n",
    "print(f\"Root Mean Squared Error (RMSE): {rmse_value}\")\n",
    "print(f\"R-squared (Coefficient of Determination): {r_squared_value}\")"
   ]
  },
  {
   "cell_type": "code",
   "execution_count": null,
   "id": "65b27879",
   "metadata": {},
   "outputs": [],
   "source": []
  },
  {
   "cell_type": "code",
   "execution_count": null,
   "id": "bdd533ee",
   "metadata": {},
   "outputs": [],
   "source": []
  }
 ],
 "metadata": {
  "kernelspec": {
   "display_name": "research",
   "language": "python",
   "name": "python3"
  },
  "language_info": {
   "codemirror_mode": {
    "name": "ipython",
    "version": 3
   },
   "file_extension": ".py",
   "mimetype": "text/x-python",
   "name": "python",
   "nbconvert_exporter": "python",
   "pygments_lexer": "ipython3",
   "version": "3.12.9"
  }
 },
 "nbformat": 4,
 "nbformat_minor": 5
}
